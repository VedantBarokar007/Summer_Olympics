{
  "nbformat": 4,
  "nbformat_minor": 0,
  "metadata": {
    "kernelspec": {
      "display_name": "Python 2",
      "language": "python",
      "name": "python2"
    },
    "language_info": {
      "codemirror_mode": {
        "name": "ipython",
        "version": 2
      },
      "file_extension": ".py",
      "mimetype": "text/x-python",
      "name": "python",
      "nbconvert_exporter": "python",
      "pygments_lexer": "ipython2",
      "version": "2.7.16"
    },
    "colab": {
      "name": "Summer.ipynb",
      "provenance": []
    }
  },
  "cells": [
    {
      "cell_type": "markdown",
      "metadata": {
        "id": "q97lZNTD0bTQ"
      },
      "source": [
        "# Summer Olympics Data Analysis Assignment"
      ]
    },
    {
      "cell_type": "markdown",
      "metadata": {
        "id": "p2kRsPin0bTR"
      },
      "source": [
        "### 1. In how many cities Summer Olympics is held so far?"
      ]
    },
    {
      "cell_type": "code",
      "metadata": {
        "colab": {
          "base_uri": "https://localhost:8080/"
        },
        "id": "rUsEeKWy0bTR",
        "outputId": "0bd413ea-8eb8-47f0-fc20-74bff9851cfa"
      },
      "source": [
        "import pandas as pd \n",
        "import matplotlib.pyplot as plt \n",
        "df = pd.read_csv(\"summer.csv\")\n",
        "len(df['City'].unique())"
      ],
      "execution_count": 6,
      "outputs": [
        {
          "output_type": "execute_result",
          "data": {
            "text/plain": [
              "22"
            ]
          },
          "metadata": {},
          "execution_count": 6
        }
      ]
    },
    {
      "cell_type": "markdown",
      "metadata": {
        "id": "7Ilhf9YW0bTR"
      },
      "source": [
        "### 2. Which sport is having most number of Gold Medals so far? (Top 5)"
      ]
    },
    {
      "cell_type": "code",
      "metadata": {
        "colab": {
          "base_uri": "https://localhost:8080/"
        },
        "id": "WSDS8DeN0bTS",
        "outputId": "f0cbccd9-67cd-451e-a912-3ef7bdb803b6"
      },
      "source": [
        "df[df['Medal'] == \"Gold\"]['Sport'].value_counts()[:5]"
      ],
      "execution_count": 7,
      "outputs": [
        {
          "output_type": "execute_result",
          "data": {
            "text/plain": [
              "Aquatics      1421\n",
              "Athletics     1215\n",
              "Rowing         890\n",
              "Gymnastics     820\n",
              "Fencing        552\n",
              "Name: Sport, dtype: int64"
            ]
          },
          "metadata": {},
          "execution_count": 7
        }
      ]
    },
    {
      "cell_type": "code",
      "metadata": {
        "colab": {
          "base_uri": "https://localhost:8080/",
          "height": 283
        },
        "id": "hgYU6G311Wkl",
        "outputId": "fb33f01e-e743-4a0f-99b3-56ec3e22b2b0"
      },
      "source": [
        "df[df['Medal'] == \"Gold\"]['Sport'].value_counts()[:5].plot(kind = 'pie')\n",
        "plt.xlabel(\"Sport\")\n",
        "plt.ylabel(\"Number of Gold Medals Won\")\n"
      ],
      "execution_count": 21,
      "outputs": [
        {
          "output_type": "execute_result",
          "data": {
            "text/plain": [
              "Text(0,0.5,'Number of Gold Medals Won')"
            ]
          },
          "metadata": {},
          "execution_count": 21
        },
        {
          "output_type": "display_data",
          "data": {
            "image/png": "[encoded data removed]",
            "text/plain": [
              "<Figure size 432x288 with 1 Axes>"
            ]
          },
          "metadata": {}
        }
      ]
    },
    {
      "cell_type": "markdown",
      "metadata": {
        "id": "UehvGD5e0bTS"
      },
      "source": [
        "### 3. Which sport is having most number of medals so far? (Top 5)"
      ]
    },
    {
      "cell_type": "code",
      "metadata": {
        "colab": {
          "base_uri": "https://localhost:8080/"
        },
        "id": "PwusSsH50bTS",
        "outputId": "a8b50a6b-7842-4d85-e415-aa089dac223e"
      },
      "source": [
        "df['Sport'].value_counts()[:5]"
      ],
      "execution_count": 9,
      "outputs": [
        {
          "output_type": "execute_result",
          "data": {
            "text/plain": [
              "Aquatics      4170\n",
              "Athletics     3638\n",
              "Rowing        2667\n",
              "Gymnastics    2307\n",
              "Fencing       1613\n",
              "Name: Sport, dtype: int64"
            ]
          },
          "metadata": {},
          "execution_count": 9
        }
      ]
    },
    {
      "cell_type": "code",
      "metadata": {
        "colab": {
          "base_uri": "https://localhost:8080/",
          "height": 334
        },
        "id": "5O1eVw8U2Jro",
        "outputId": "50e42922-f455-486f-9f9f-be63713385cf"
      },
      "source": [
        "df['Sport'].value_counts()[:5].plot(kind = 'bar')\n"
      ],
      "execution_count": 10,
      "outputs": [
        {
          "output_type": "execute_result",
          "data": {
            "text/plain": [
              "<matplotlib.axes._subplots.AxesSubplot at 0x7fd417b261d0>"
            ]
          },
          "metadata": {},
          "execution_count": 10
        },
        {
          "output_type": "display_data",
          "data": {
            "image/png": "[encoded data removed]",
            "text/plain": [
              "<Figure size 432x288 with 1 Axes>"
            ]
          },
          "metadata": {
            "needs_background": "light"
          }
        }
      ]
    },
    {
      "cell_type": "markdown",
      "metadata": {
        "id": "lMbchix60bTS"
      },
      "source": [
        "### 4. Which player has won most number of medals? (Top 5)"
      ]
    },
    {
      "cell_type": "code",
      "metadata": {
        "colab": {
          "base_uri": "https://localhost:8080/"
        },
        "id": "kOa4vYjY0bTS",
        "outputId": "4191a4e4-4453-40c5-bda5-9d3c0913164c"
      },
      "source": [
        "df['Athlete'].value_counts()[:5]"
      ],
      "execution_count": 11,
      "outputs": [
        {
          "output_type": "execute_result",
          "data": {
            "text/plain": [
              "PHELPS, Michael         22\n",
              "LATYNINA, Larisa        18\n",
              "ANDRIANOV, Nikolay      15\n",
              "SHAKHLIN, Boris         13\n",
              "MANGIAROTTI, Edoardo    13\n",
              "Name: Athlete, dtype: int64"
            ]
          },
          "metadata": {},
          "execution_count": 11
        }
      ]
    },
    {
      "cell_type": "code",
      "metadata": {
        "colab": {
          "base_uri": "https://localhost:8080/",
          "height": 286
        },
        "id": "Qi4Szquo2Rpy",
        "outputId": "92556691-d92c-4022-c834-3ad0e19d7f4c"
      },
      "source": [
        "\n",
        "df['Athlete'].value_counts()[:5].plot(kind = 'line')"
      ],
      "execution_count": 23,
      "outputs": [
        {
          "output_type": "execute_result",
          "data": {
            "text/plain": [
              "<matplotlib.axes._subplots.AxesSubplot at 0x7fd4153911d0>"
            ]
          },
          "metadata": {},
          "execution_count": 23
        },
        {
          "output_type": "display_data",
          "data": {
            "image/png": "[encoded data removed]",
            "text/plain": [
              "<Figure size 432x288 with 1 Axes>"
            ]
          },
          "metadata": {
            "needs_background": "light"
          }
        }
      ]
    },
    {
      "cell_type": "markdown",
      "metadata": {
        "id": "BUsseGIb0bTS"
      },
      "source": [
        "### 5. Which player has won most number Gold Medals of medals? (Top 5)"
      ]
    },
    {
      "cell_type": "code",
      "metadata": {
        "colab": {
          "base_uri": "https://localhost:8080/"
        },
        "id": "GE3hFbQ10bTS",
        "outputId": "f661da08-8ec5-47f6-a5cc-18cb0032fcfd"
      },
      "source": [
        "df[df['Medal']=='Gold']['Athlete'].value_counts()[:5]\n"
      ],
      "execution_count": 33,
      "outputs": [
        {
          "output_type": "execute_result",
          "data": {
            "text/plain": [
              "PHELPS, Michael     18\n",
              "LEWIS, Carl          9\n",
              "NURMI, Paavo         9\n",
              "LATYNINA, Larisa     9\n",
              "SPITZ, Mark          9\n",
              "Name: Athlete, dtype: int64"
            ]
          },
          "metadata": {},
          "execution_count": 33
        }
      ]
    },
    {
      "cell_type": "code",
      "metadata": {
        "colab": {
          "base_uri": "https://localhost:8080/",
          "height": 272
        },
        "id": "24r8KUIy6yGO",
        "outputId": "7e9b74d5-dc89-4c87-cc07-93d784f36084"
      },
      "source": [
        "df[df['Medal']=='Gold']['Athlete'].value_counts()[:5].plot(kind='pie')"
      ],
      "execution_count": 34,
      "outputs": [
        {
          "output_type": "execute_result",
          "data": {
            "text/plain": [
              "<matplotlib.axes._subplots.AxesSubplot at 0x7fd415064890>"
            ]
          },
          "metadata": {},
          "execution_count": 34
        },
        {
          "output_type": "display_data",
          "data": {
            "image/png": "[encoded data removed]",
            "text/plain": [
              "<Figure size 432x288 with 1 Axes>"
            ]
          },
          "metadata": {}
        }
      ]
    },
    {
      "cell_type": "markdown",
      "metadata": {
        "id": "0Smruqcl0bTS"
      },
      "source": [
        "### 6. In which year India won first Gold Medal in Summer Olympics?"
      ]
    },
    {
      "cell_type": "code",
      "metadata": {
        "colab": {
          "base_uri": "https://localhost:8080/"
        },
        "id": "e0Li3TWb0bTT",
        "outputId": "028a3c80-dddb-4e87-fcf8-f167d686fd40"
      },
      "source": [
        "min(df[df['Country'] == 'IND'].Year)"
      ],
      "execution_count": 16,
      "outputs": [
        {
          "output_type": "execute_result",
          "data": {
            "text/plain": [
              "1900"
            ]
          },
          "metadata": {},
          "execution_count": 16
        }
      ]
    },
    {
      "cell_type": "markdown",
      "metadata": {
        "id": "p_muT1Li0bTT"
      },
      "source": [
        "### 7. Which event is most popular in terms on number of players? (Top 5)"
      ]
    },
    {
      "cell_type": "code",
      "metadata": {
        "colab": {
          "base_uri": "https://localhost:8080/"
        },
        "id": "q6w6Sthe0bTT",
        "outputId": "f6b8b2b6-9f5a-44e4-eb23-1a989cb0b3a8"
      },
      "source": [
        "\n",
        "df['Event'].value_counts()[:5]"
      ],
      "execution_count": 14,
      "outputs": [
        {
          "output_type": "execute_result",
          "data": {
            "text/plain": [
              "Football            1497\n",
              "Hockey              1422\n",
              "Team Competition    1147\n",
              "Basketball          1012\n",
              "Handball             973\n",
              "Name: Event, dtype: int64"
            ]
          },
          "metadata": {},
          "execution_count": 14
        }
      ]
    },
    {
      "cell_type": "code",
      "metadata": {
        "colab": {
          "base_uri": "https://localhost:8080/",
          "height": 286
        },
        "id": "UKmYtti22dAQ",
        "outputId": "cdea88a5-008e-4902-ef44-6e2259bab71f"
      },
      "source": [
        "\n",
        "df['Event'].value_counts()[:5].plot(kind='hist')"
      ],
      "execution_count": 30,
      "outputs": [
        {
          "output_type": "execute_result",
          "data": {
            "text/plain": [
              "<matplotlib.axes._subplots.AxesSubplot at 0x7fd415257c10>"
            ]
          },
          "metadata": {},
          "execution_count": 30
        },
        {
          "output_type": "display_data",
          "data": {
            "image/png": "[encoded data removed]",
            "text/plain": [
              "<Figure size 432x288 with 1 Axes>"
            ]
          },
          "metadata": {
            "needs_background": "light"
          }
        }
      ]
    },
    {
      "cell_type": "markdown",
      "metadata": {
        "id": "LoQC7f6i0bTT"
      },
      "source": [
        "### 8. Which sport is having most female Gold Medalists? (Top 5)"
      ]
    },
    {
      "cell_type": "code",
      "metadata": {
        "colab": {
          "base_uri": "https://localhost:8080/"
        },
        "id": "BJZV92tL0bTT",
        "outputId": "e2c7e1bd-4cc0-49ae-b06a-9f50ed6120cb"
      },
      "source": [
        "\n",
        "df['Gender'].unique()"
      ],
      "execution_count": 17,
      "outputs": [
        {
          "output_type": "execute_result",
          "data": {
            "text/plain": [
              "array(['Men', 'Women'], dtype=object)"
            ]
          },
          "metadata": {},
          "execution_count": 17
        }
      ]
    },
    {
      "cell_type": "code",
      "metadata": {
        "colab": {
          "base_uri": "https://localhost:8080/"
        },
        "id": "-8wXLVic2ton",
        "outputId": "58ca1f58-0d69-42cb-b4e9-ba7c8bad431c"
      },
      "source": [
        "df[df['Gender'] == \"Women\"]['Sport'].value_counts()[:5]"
      ],
      "execution_count": 18,
      "outputs": [
        {
          "output_type": "execute_result",
          "data": {
            "text/plain": [
              "Aquatics      1726\n",
              "Athletics     1163\n",
              "Gymnastics     799\n",
              "Rowing         651\n",
              "Volleyball     497\n",
              "Name: Sport, dtype: int64"
            ]
          },
          "metadata": {},
          "execution_count": 18
        }
      ]
    },
    {
      "cell_type": "code",
      "metadata": {
        "colab": {
          "base_uri": "https://localhost:8080/",
          "height": 272
        },
        "id": "yS4VpIjE2vz8",
        "outputId": "2831dd41-4615-42dc-8159-c511d19448ff"
      },
      "source": [
        "df[df['Gender'] == \"Women\"]['Sport'].value_counts()[:5].plot(kind = 'pie')"
      ],
      "execution_count": 32,
      "outputs": [
        {
          "output_type": "execute_result",
          "data": {
            "text/plain": [
              "<matplotlib.axes._subplots.AxesSubplot at 0x7fd414f29050>"
            ]
          },
          "metadata": {},
          "execution_count": 32
        },
        {
          "output_type": "display_data",
          "data": {
            "image/png": "[encoded data removed]",
            "text/plain": [
              "<Figure size 432x288 with 1 Axes>"
            ]
          },
          "metadata": {}
        }
      ]
    },
    {
      "cell_type": "code",
      "metadata": {
        "id": "CvFvaOJv54DN"
      },
      "source": [
        ""
      ],
      "execution_count": null,
      "outputs": []
    }
  ]
}